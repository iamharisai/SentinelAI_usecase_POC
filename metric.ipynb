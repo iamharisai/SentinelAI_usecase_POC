{
 "cells": [
  {
   "cell_type": "code",
   "execution_count": 26,
   "metadata": {},
   "outputs": [],
   "source": [
    "# Install the required packages\n",
    "# %pip install --upgrade pip\n",
    "# %pip install -q langgraph langchain_openai langchain_huggingface\n",
    "# %pip install pandas -q"
   ]
  },
  {
   "cell_type": "markdown",
   "metadata": {},
   "source": [
    "## Setting Up Our Environment\n",
    "\n",
    "First, let's import all the necessary libraries. LangGraph provides the graph structure, while LangChain offers convenient interfaces for working with LLMs."
   ]
  },
  {
   "cell_type": "code",
   "execution_count": null,
   "metadata": {},
   "outputs": [],
   "source": [
    "import os\n",
    "import pandas as pd\n",
    "from typing import TypedDict, List, Dict, Any, Optional\n",
    "from langgraph.graph import StateGraph, END\n",
    "from langchain_openai import ChatOpenAI\n",
    "from langchain_core.messages import HumanMessage, AIMessage\n",
    "\n",
    "# Set your OpenAI API key here\n",
    "# os.environ[\"OPENAI_API_KEY\"] = \"sk-....\"  # Replace with your actual API key\n",
    "\n",
    "# Initialize our LLM\n",
    "model = ChatOpenAI(model=\"gpt-4o\", temperature=0)"
   ]
  },
  {
   "cell_type": "markdown",
   "metadata": {},
   "source": [
    "## Step 1: Define Our State\n",
    "\n",
    "In LangGraph, **State** is the central concept. It represents all the information that flows through our workflow."
   ]
  },
  {
   "cell_type": "code",
   "execution_count": 28,
   "metadata": {},
   "outputs": [],
   "source": [
    "class EmailState(TypedDict):\n",
    "    email: Dict[str, Any]           \n",
    "    is_spam: Optional[bool]         \n",
    "    spam_reason: Optional[str]      \n",
    "    email_category: Optional[str]   \n",
    "    draft_response: Optional[str]   \n",
    "    messages: List[Dict[str, Any]]  "
   ]
  },
  {
   "cell_type": "code",
   "execution_count": 29,
   "metadata": {},
   "outputs": [],
   "source": [
    "class MetricState(TypedDict):\n",
    "    metric_name: str\n",
    "    metric_usage: pd.DataFrame\n",
    "    is_concern: Optional[bool]\n",
    "    last_1day_average: int\n",
    "    last_7days_average: int\n",
    "    last_30days_average: int\n",
    "    last_90days_average: int\n",
    "    last_180days_average: int\n",
    "    last_365days_average: int\n",
    "    threshold: Optional[int]\n"
   ]
  },
  {
   "cell_type": "markdown",
   "metadata": {},
   "source": [
    "## Step 2: Define Our Nodes"
   ]
  },
  {
   "cell_type": "code",
   "execution_count": 30,
   "metadata": {},
   "outputs": [
    {
     "data": {
      "text/plain": [
       "<langgraph.graph.state.StateGraph at 0x113c32b10>"
      ]
     },
     "execution_count": 30,
     "metadata": {},
     "output_type": "execute_result"
    }
   ],
   "source": [
    "import os\n",
    "from typing import TypedDict, List, Dict, Any, Optional\n",
    "from langgraph.graph import StateGraph, START, END\n",
    "from langchain_openai import ChatOpenAI\n",
    "from langchain_core.messages import HumanMessage, AIMessage\n",
    "from langchain_huggingface import ChatHuggingFace, HuggingFaceEndpoint\n",
    "\n",
    "# Initialize LLM\n",
    "model = ChatOpenAI( model=\"gpt-4o\",temperature=0)\n",
    "\n",
    "\n",
    "# Define nodes\n",
    "def process_metric(state: MetricState):\n",
    "    metric_name = state[\"metric_name\"]\n",
    "    metric_usage = state[\"metric_usage\"]\n",
    "    print(metric_name)\n",
    "    return {}\n",
    "\n",
    "def classify_concern(state: MetricState):\n",
    "    print(f\"is_concern is processing\")\n",
    "    metric_name = state[\"metric_name\"]\n",
    "    metric_usage = state[\"metric_usage\"]  \n",
    "\n",
    "    prompt = f\"\"\"\n",
    "        As an AI assistant, analyze the metric usage data for {metric_name} and determine if there is a concern.\n",
    "        The usage data for {metric_name} is {metric_usage}\n",
    "        The metric usage is available as pandas dataframe which has time and value columns.\n",
    "        answer with YES or NO if there is a concern. Only return the answer and explanation\n",
    "        Answer :\n",
    "        Explanation :\n",
    "    \"\"\"\n",
    "    messages = [HumanMessage(content=prompt)]\n",
    "    response = model.invoke(messages)\n",
    "\n",
    "    response_text = response.content.lower()\n",
    "    is_concern = \"yes\" in response_text.split('\\n')[0] and \"no\" not in response_text.split('\\n')[0]\n",
    "    print(\"Response: \\n\", response_text)\n",
    "    print(\"Is this a concern: \", is_concern)\n",
    "    return {is_concern: is_concern}\n",
    "\n",
    "\n",
    "# Create the graph\n",
    "metric_graph = StateGraph(MetricState)\n",
    "# Add nodes\n",
    "metric_graph.add_node(\"process_metric\", process_metric)\n",
    "metric_graph.add_node(\"classify_concern\", classify_concern)"
   ]
  },
  {
   "cell_type": "markdown",
   "metadata": {},
   "source": [
    "## Step 3: Define Our Routing Logic"
   ]
  },
  {
   "cell_type": "code",
   "execution_count": 31,
   "metadata": {},
   "outputs": [
    {
     "data": {
      "text/plain": [
       "<langgraph.graph.state.StateGraph at 0x113c32b10>"
      ]
     },
     "execution_count": 31,
     "metadata": {},
     "output_type": "execute_result"
    }
   ],
   "source": [
    "# Add edges\n",
    "metric_graph.add_edge(START, \"process_metric\")\n",
    "metric_graph.add_edge(\"process_metric\", \"classify_concern\")\n",
    "# Add conditional edges\n",
    "# email_graph.add_conditional_edges(\n",
    "#     \"classify_email\", # after classify, we run the \"route_email\" function\"\n",
    "#     route_email,\n",
    "#     {\n",
    "#         \"spam\": \"handle_spam\", # if it return \"Spam\", we go the \"handle_span\" node\n",
    "#         \"legitimate\": \"drafting_response\" # and if it's legitimate, we go to the \"drafting response\" node\n",
    "#     }\n",
    "# )\n",
    "\n",
    "# Add final edges\n",
    "# metric_graph.add_edge(\"process_metric\", END)\n",
    "metric_graph.add_edge(\"classify_concern\", END)"
   ]
  },
  {
   "cell_type": "markdown",
   "metadata": {},
   "source": [
    "## Step 4: Create the StateGraph and Define Edges"
   ]
  },
  {
   "cell_type": "code",
   "execution_count": 32,
   "metadata": {},
   "outputs": [],
   "source": [
    "compiled_metric_graph = metric_graph.compile()"
   ]
  },
  {
   "cell_type": "code",
   "execution_count": 33,
   "metadata": {},
   "outputs": [
    {
     "data": {
      "image/png": "[encoded data removed]",
      "text/plain": [
       "<IPython.core.display.Image object>"
      ]
     },
     "metadata": {},
     "output_type": "display_data"
    }
   ],
   "source": [
    "from IPython.display import Image, display\n",
    "\n",
    "display(Image(compiled_metric_graph.get_graph().draw_mermaid_png()))"
   ]
  },
  {
   "cell_type": "code",
   "execution_count": 41,
   "metadata": {},
   "outputs": [
    {
     "name": "stdout",
     "output_type": "stream",
     "text": [
      "disk_usage\n",
      "is_concern is processing\n",
      "Response: \n",
      " answer: yes\n",
      "\n",
      "explanation: the disk usage values are consistently high, with the initial value at 84.4% and the final value at 76.4%. although there is a slight decrease over time, the usage remains above 75% throughout the period. high disk usage can lead to performance issues, lack of space for new data, and potential system failures if not addressed. it is advisable to monitor the situation closely and consider freeing up space or expanding disk capacity to prevent potential problems.\n",
      "Is this a concern:  True\n"
     ]
    }
   ],
   "source": [
    "metric_usage = pd.read_csv(\"disk_usage.csv\")\n",
    "metric_state = MetricState(\n",
    "    metric_name=\"disk_usage\",\n",
    "    metric_usage=metric_usage,\n",
    "    is_concern=None,\n",
    "    last_1day_average=0,\n",
    "    last_7days_average=0,\n",
    "    last_30days_average=0,\n",
    "    last_90days_average=0,\n",
    "    last_180days_average=0,\n",
    "    last_365days_average=0,\n",
    "    threshold=None\n",
    ")\n",
    "\n",
    "\n",
    "processed_result = compiled_metric_graph.invoke(metric_state)"
   ]
  },
  {
   "cell_type": "markdown",
   "metadata": {},
   "source": [
    "#Integrating with Local model\n",
    "import os\n",
    "from typing import TypedDict, List, Dict, Any, Optional\n",
    "from langgraph.graph import StateGraph, START, END\n",
    "from langchain_core.messages import HumanMessage, AIMessage\n",
    "\n",
    "# Custom class for local model\n",
    "class LocalModel:\n",
    "    def __init__(self, model_name: str):\n",
    "        self.model_name = model_name\n",
    "        # Initialize your local model here\n",
    "\n",
    "    def invoke(self, messages: List[HumanMessage]) -> AIMessage:\n",
    "        # Implement the logic to interact with your local model\n",
    "        # For example, sending the prompt to the local model and getting the response\n",
    "        prompt = messages[0].content\n",
    "        response_text = self.generate_response(prompt)\n",
    "        return AIMessage(content=response_text)\n",
    "\n",
    "    def generate_response(self, prompt: str) -> str:\n",
    "        # Replace this with the actual interaction with your local model\n",
    "        # For example, using subprocess to call a local script or API\n",
    "        return \"yes\\nExplanation: This is a sample response from the local model.\"\n",
    "\n",
    "# Initialize local model\n",
    "model = LocalModel(model_name=\"gemma3\")\n",
    "\n",
    "# Define nodes\n",
    "def process_metric(state: MetricState):\n",
    "    metric_name = state[\"metric_name\"]\n",
    "    metric_usage = state[\"metric_usage\"]\n",
    "    print(metric_name)\n",
    "    return {}\n",
    "\n",
    "def classify_concern(state: MetricState):\n",
    "    print(f\"is_concern is processing\")\n",
    "    metric_name = state[\"metric_name\"]\n",
    "    metric_usage = state[\"metric_usage\"]  \n",
    "\n",
    "    prompt = f\"\"\"\n",
    "        As an AI assistant, analyze the metric usage data for {metric_name} and determine if there is a concern.\n",
    "        The usage data for {metric_name} is {metric_usage}\n",
    "        The metric usage is available as pandas dataframe which has time and value columns.\n",
    "        answer with YES or NO if there is a concern. Only return the answer and explanation\n",
    "        Answer :\n",
    "        Explanation :\n",
    "    \"\"\"\n",
    "    messages = [HumanMessage(content=prompt)]\n",
    "    response = model.invoke(messages)\n",
    "\n",
    "    response_text = response.content.lower()\n",
    "    is_concern = \"yes\" in response_text.split('\\n')[0] and \"no\" not in response_text.split('\\n')[0]\n",
    "    print(\"Response: \\n\", response_text)\n",
    "    print(\"Is this a concern: \", is_concern)\n",
    "    return {is_concern: is_concern}\n",
    "\n",
    "# Create the graph\n",
    "# metric_graph = StateGraph(MetricState)\n",
    "# Add nodes\n",
    "# metric_graph.add_node(\"process_metric\", process_metric)\n",
    "# metric_graph.add_node(\"classify_concern\", classify_concern)"
   ]
  },
  {
   "cell_type": "code",
   "execution_count": 35,
   "metadata": {},
   "outputs": [
    {
     "name": "stdout",
     "output_type": "stream",
     "text": [
      "disk_usage\n",
      "is_concern is processing\n",
      "Response: \n",
      " answer: yes\n",
      "\n",
      "explanation: the disk usage values are consistently high, with the initial value at 84.4% and the final value at 76.4%. although there is a slight decrease over time, the usage remains above 75% throughout the period. high disk usage can lead to performance issues, such as slower read/write speeds and potential system instability. it is generally recommended to maintain disk usage below 70-80% to ensure optimal performance and to allow room for growth and temporary spikes in usage. therefore, the consistently high usage indicates a potential concern that should be addressed.\n",
      "Is this a concern:  True\n"
     ]
    }
   ],
   "source": [
    "metric_usage = pd.read_csv(\"disk_usage.csv\")\n",
    "metric_state = MetricState(\n",
    "    metric_name=\"disk_usage\",\n",
    "    metric_usage=metric_usage,\n",
    "    is_concern=None,\n",
    "    last_1day_average=0,\n",
    "    last_7days_average=0,\n",
    "    last_30days_average=0,\n",
    "    last_90days_average=0,\n",
    "    last_180days_average=0,\n",
    "    last_365days_average=0,\n",
    "    threshold=None\n",
    ")\n",
    "\n",
    "\n",
    "processed_result = compiled_metric_graph.invoke(metric_state)"
   ]
  }
 ],
 "metadata": {
  "kernelspec": {
   "display_name": ".venv",
   "language": "python",
   "name": "python3"
  },
  "language_info": {
   "codemirror_mode": {
    "name": "ipython",
    "version": 3
   },
   "file_extension": ".py",
   "mimetype": "text/x-python",
   "name": "python",
   "nbconvert_exporter": "python",
   "pygments_lexer": "ipython3",
   "version": "3.13.2"
  }
 },
 "nbformat": 4,
 "nbformat_minor": 2
}
